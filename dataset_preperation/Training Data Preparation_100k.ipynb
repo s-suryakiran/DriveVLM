{
 "cells": [
  {
   "cell_type": "code",
   "execution_count": 1,
   "id": "2c7fe7fe-5f76-487a-a245-8c97172a1462",
   "metadata": {},
   "outputs": [
    {
     "name": "stdout",
     "output_type": "stream",
     "text": [
      "Number of .png files: 472794\n",
      "Related files:\n",
      "472794\n"
     ]
    }
   ],
   "source": [
    "import os\n",
    "\n",
    "\n",
    "folder_path = '/home/goodone/Desktop/01_Supervised_Training/tcp_carla_data.zip/tcp_carla_data/' # TODO: Replace this with your data root directory path\n",
    "\n",
    "png_count = 0\n",
    "related_files = []\n",
    "\n",
    "# Walk through directory and subdirectories\n",
    "for root, dirs, files in os.walk(folder_path):\n",
    "    if 'rgb' in root.split(os.sep):\n",
    "        for file in files:\n",
    "            if file.endswith('.png'):\n",
    "                png_count += 1\n",
    "                base_name = os.path.splitext(file)[0]\n",
    "\n",
    "                # Construct paths for the related files in measurements and supervision\n",
    "                measurements_path = os.path.join(root.replace('rgb', 'measurements'), base_name + '.json')\n",
    "                supervision_path = os.path.join(root.replace('rgb', 'supervision'), base_name + '.npy')\n",
    "\n",
    "                # Check if these files exist\n",
    "                if os.path.exists(measurements_path) and os.path.exists(supervision_path):\n",
    "                    related_files.append((os.path.join(root, file), measurements_path, supervision_path))\n",
    "\n",
    "print(f\"Number of .png files: {png_count}\")\n",
    "print(\"Related files:\")\n",
    "print(len(related_files))"
   ]
  },
  {
   "cell_type": "code",
   "execution_count": 2,
   "id": "d2a54327-d12c-4d9c-b79a-077433f2de58",
   "metadata": {},
   "outputs": [],
   "source": [
    "import random\n",
    "\n",
    "# Number of elements to sample\n",
    "sample_size = 100000\n",
    "\n",
    "# Check if the list has enough elements\n",
    "if len(related_files) >= sample_size:\n",
    "    sampled_list = random.sample(related_files, sample_size)\n",
    "else:\n",
    "    print(\"The list doesn't contain enough elements.\")\n"
   ]
  },
  {
   "cell_type": "code",
   "execution_count": 3,
   "id": "cd567507-4098-4b12-9796-5dcde63eaaa0",
   "metadata": {},
   "outputs": [
    {
     "name": "stdout",
     "output_type": "stream",
     "text": [
      "List successfully written to pre_dataset_100K.json\n"
     ]
    }
   ],
   "source": [
    "import json\n",
    "\n",
    "# Assuming 'your_list' is your list\n",
    "your_list = sampled_list ## your list of elements ...\n",
    "\n",
    "# Specify the filename\n",
    "filename = 'pre_dataset_100K.json'\n",
    "\n",
    "# Write the list to a JSON file\n",
    "with open(filename, 'w') as file:\n",
    "    json.dump(your_list, file, indent=4)\n",
    "\n",
    "print(f\"List successfully written to {filename}\")"
   ]
  },
  {
   "cell_type": "code",
   "execution_count": 4,
   "id": "e40aade5-e1f6-4b4e-abe3-588310fc0b3c",
   "metadata": {},
   "outputs": [],
   "source": [
    "# list_of_inputs_and_outputs_unstructured = []\n",
    "import numpy as np\n",
    "\n",
    "json_list = []\n",
    "for counter, item in enumerate(sampled_list):\n",
    "\n",
    "    data = {}\n",
    "\n",
    "    data[\"image_path\"] = item[0]\n",
    "    data[\"measurements_path\"] = item[1]\n",
    "    data[\"supervision_path\"] = item[2]\n",
    "\n",
    "    \n",
    "\n",
    "    with open(data[\"measurements_path\"], 'r') as file:\n",
    "        data[\"sensor_data\"] = json.load(file)\n",
    "        \n",
    "    data[\"requried_outputs\"] = np.load(data[\"supervision_path\"], allow_pickle=True)\n",
    "\n",
    "    data_dict = data[\"requried_outputs\"].item()\n",
    "\n",
    "    mapping = {1:\"GO LEFT\" , 2: \"GO RIGHT\" ,  3: \"GO STRAIGHT\" , 4: \"FOLLOW THE CURRENT LANE\" , 5: \"CHANGE TO LANE LEFT\" , 6: \"CHANGE TO LANE RIGHT\" }\n",
    "\n",
    "    json_obj = {\n",
    "    \"id\": \"identity_\" + str(counter),\n",
    "    \"conversations\": [\n",
    "        {\n",
    "            \"from\": \"user\",\n",
    "            \"value\": f'Picture 1: <img>{data[\"image_path\"]}</img>\\\\n Given this Ego centric image, \\\n",
    "            now you are autonomous driving agent, now your current position(x,y) is at \\\n",
    "            ({round(data[\"sensor_data\"][\"x\"],3)},{round(data[\"sensor_data\"][\"y\"],3)}) \\\\n \\\n",
    "            Your current speed is {round(data[\"sensor_data\"][\"speed\"],3)} m/s \\\\n \\\n",
    "            Your current angle is {round(data[\"sensor_data\"][\"theta\"],3)}  \\\\n \\\n",
    "            Your immediate command to follow is {mapping[data[\"sensor_data\"][\"command_near\"]]} and immediate target position is at \\\n",
    "            ({round(data[\"sensor_data\"][\"x_command_near\"],3)},{round(data[\"sensor_data\"][\"y_command_near\"],3)}) \\\\n \\\n",
    "            Your later target command to follow is {mapping[data[\"sensor_data\"][\"target_command\"]]} and later target position is at \\\n",
    "            ({round(data[\"sensor_data\"][\"x_target\"],3)},{round(data[\"sensor_data\"][\"y_target\"],3)}) \\\\n \\\n",
    "            The current command for applying brakes is {data[\"sensor_data\"][\"should_brake\"]} \\\\n \\\n",
    "            Now you have to predict following values which are throttle (also called acceleration) (0 to 1) , steer (-1 to 1) and brake (0 to 1)\\\\n in the json format \\\n",
    "            For example: the output can be this json {{ \"throttle\" :x, \"steer\" : y, \"brake\": z }}'\n",
    "        },\n",
    "        {\n",
    "            \"from\": \"assistant\",\n",
    "            \"value\": f'{{ \"throttle\" :{round(float(data_dict[\"action\"][0]),3)}, \"steer\" : {round(float(data_dict[\"action\"][1]),3)}, \"brake\": {round(float(data_dict[\"action\"][2]),3) } }}'\n",
    "        }\n",
    "        ]\n",
    "        }\n",
    "\n",
    "    json_list.append(json_obj)"
   ]
  },
  {
   "cell_type": "code",
   "execution_count": 5,
   "id": "3d0e29b1-6142-4968-9863-f3d554111cc1",
   "metadata": {},
   "outputs": [
    {
     "name": "stdout",
     "output_type": "stream",
     "text": [
      "JSON list successfully written to carla_supervised_100K.json\n"
     ]
    }
   ],
   "source": [
    "import json\n",
    "import re\n",
    "\n",
    "# Specify the filename\n",
    "filename = 'carla_supervised_100K.json'\n",
    "\n",
    "for item in json_list:\n",
    "    item[\"conversations\"][1][\"value\"] = item[\"conversations\"][1][\"value\"] .replace('\\\"', \"'\") \n",
    "    item[\"conversations\"][0][\"value\"] = re.sub(r'\\s{2,}', ' ', item[\"conversations\"][0][\"value\"])\n",
    "    \n",
    "\n",
    "# Write the list to a JSON file with indentation\n",
    "with open(filename, 'w') as file:\n",
    "    json.dump(json_list, file, indent=4)\n",
    "\n",
    "print(f\"JSON list successfully written to {filename}\")"
   ]
  }
 ],
 "metadata": {
  "kernelspec": {
   "display_name": "Python 3 (ipykernel)",
   "language": "python",
   "name": "python3"
  },
  "language_info": {
   "codemirror_mode": {
    "name": "ipython",
    "version": 3
   },
   "file_extension": ".py",
   "mimetype": "text/x-python",
   "name": "python",
   "nbconvert_exporter": "python",
   "pygments_lexer": "ipython3",
   "version": "3.8.18"
  }
 },
 "nbformat": 4,
 "nbformat_minor": 5
}
